{
 "cells": [
  {
   "cell_type": "code",
   "execution_count": 2,
   "metadata": {
    "deletable": false,
    "editable": false
   },
   "outputs": [],
   "source": [
    "# Initialize Otter\n",
    "import otter\n",
    "grader = otter.Notebook(\"assignment4.ipynb\")"
   ]
  },
  {
   "cell_type": "markdown",
   "metadata": {
    "vscode": {
     "languageId": "raw"
    }
   },
   "source": [
    "# Clustering in Practice and K-Means Clustering\n",
    "\n",
    "Please complete the following assignment. Run all cells and submit your completed notebook through Gradescope.\n",
    "\n",
    "- Clustering is a fundamental unsupervised learning technique used to group similar data points based on their features. It helps in discovering patterns and structures within datasets without predefined labels.\n",
    "\n",
    "- The k-means algorithm aims to partition a dataset into k clusters, assigning each data point to the cluster whose centroid is closest to that point.\n",
    "\n",
    "#### In this assignment, the aim is to test your fundamentals of Clustering, specifically K-Means clustering.\n"
   ]
  },
  {
   "cell_type": "markdown",
   "metadata": {
    "deletable": false,
    "editable": false,
    "vscode": {
     "languageId": "raw"
    }
   },
   "source": [
    "<!-- BEGIN QUESTION -->\n",
    "\n",
    "#### 1. Which of the following statements about k-means clustering is true?\n",
    "    A) k-means clustering can only be used for categorical data.\n",
    "\n",
    "    B) k-means clustering aims to minimize the within-cluster sum of squares.\n",
    "\n",
    "    C) The k-means algorithm always converges to the global optimum.\n",
    "\n",
    "    D) k-means clustering is a hierarchical clustering algorithm."
   ]
  },
  {
   "cell_type": "code",
   "execution_count": 8,
   "metadata": {
    "tags": []
   },
   "outputs": [],
   "source": [
    "def ans1():\n",
    "    print(\"B) k-means clustering aims to minimize the within-cluster sum of squares.\")"
   ]
  },
  {
   "cell_type": "code",
   "execution_count": 10,
   "metadata": {},
   "outputs": [
    {
     "name": "stdout",
     "output_type": "stream",
     "text": [
      "B) k-means clustering aims to minimize the within-cluster sum of squares.\n"
     ]
    }
   ],
   "source": [
    "ans1()"
   ]
  },
  {
   "cell_type": "markdown",
   "metadata": {
    "deletable": false,
    "editable": false
   },
   "source": [
    "<!-- END QUESTION -->\n",
    "\n",
    "<!-- BEGIN QUESTION -->\n",
    "\n",
    "#### 2. What is the main advantage of using the k-means++ initialization method over the standard k-means initialization?\n",
    "\n",
    "    A) It selects initial centroids that are maximally distant from each other, ensuring convergence to the global optimum.\n",
    "\n",
    "    B) It reduces the computational complexity of k-means from quadratic to linear time with respect to the number of data points.\n",
    "\n",
    "    C) It allows k-means clustering to automatically determine the optimal number of clusters without prior specification.\n",
    "\n",
    "    D) It probabilistically selects initial centroids based on data density, leading to faster convergence and improved clustering results."
   ]
  },
  {
   "cell_type": "code",
   "execution_count": 34,
   "metadata": {
    "tags": []
   },
   "outputs": [],
   "source": [
    "def ans2():\n",
    "    print(\"D) It probabilistically selects initial centroids based on data density,\\n   leading to faster convergence and improved clustering results.\")"
   ]
  },
  {
   "cell_type": "code",
   "execution_count": 36,
   "metadata": {},
   "outputs": [
    {
     "name": "stdout",
     "output_type": "stream",
     "text": [
      "D) It probabilistically selects initial centroids based on data density,\n",
      "   leading to faster convergence and improved clustering results.\n"
     ]
    }
   ],
   "source": [
    "ans2()"
   ]
  },
  {
   "cell_type": "markdown",
   "metadata": {
    "deletable": false,
    "editable": false,
    "vscode": {
     "languageId": "raw"
    }
   },
   "source": [
    "<!-- END QUESTION -->\n",
    "\n",
    "#### 3. Clustering on Synthetic Blob Data\n",
    "- In this question, you are given a synthetic dataset generated using the `make_blobs` sklearn dataset method. \n",
    "- You're required to apply K-Means clustering on this data and plot the clustered dataset, marking the cluster centers.\n",
    "- Use `k = 3`\n",
    "- Return the **centers, clustered data point labels (classes), and the WCSS**\n",
    "- `Please use random_state = 42 while defining the KMeans model`"
   ]
  },
  {
   "cell_type": "code",
   "execution_count": null,
   "metadata": {
    "tags": []
   },
   "outputs": [],
   "source": [
    "import numpy as np\n",
    "import matplotlib.pyplot as plt\n",
    "from sklearn.datasets import make_blobs\n",
    "from sklearn.cluster import KMeans\n",
    "def ans3():\n",
    "    X, y_true = make_blobs(n_samples=300, centers=3, cluster_std=1.0, random_state=42)\n",
    "    ..."
   ]
  },
  {
   "cell_type": "code",
   "execution_count": null,
   "metadata": {
    "deletable": false,
    "editable": false
   },
   "outputs": [],
   "source": [
    "grader.check(\"q3\")"
   ]
  },
  {
   "cell_type": "markdown",
   "metadata": {
    "deletable": false,
    "editable": false,
    "vscode": {
     "languageId": "raw"
    }
   },
   "source": [
    "#### 4. Clustering on funky-looking data\n",
    "- In this question, you are given a synthetic dataset (anisotropic) generated using the `make_circles` sklearn dataset method. \n",
    "- You're required to apply K-Means clustering on this data and plot the clustered dataset, marking the cluster centers.\n",
    "- Return the **predicted labels, true labels, and the Adjusted Rand Index**\n",
    "- `Please use random_state = 42 while defining the KMeans model`"
   ]
  },
  {
   "cell_type": "code",
   "execution_count": null,
   "metadata": {
    "tags": []
   },
   "outputs": [],
   "source": [
    "from sklearn.datasets import make_circles\n",
    "from sklearn.cluster import KMeans\n",
    "from sklearn.metrics import adjusted_rand_score\n",
    "\n",
    "def ans4():\n",
    "    # Generates dataset with two interleaving half circles\n",
    "    X, y_true = make_circles(n_samples=300, noise=0.05, random_state=42)\n",
    "    ..."
   ]
  },
  {
   "cell_type": "code",
   "execution_count": null,
   "metadata": {
    "deletable": false,
    "editable": false
   },
   "outputs": [],
   "source": [
    "grader.check(\"q4\")"
   ]
  },
  {
   "cell_type": "markdown",
   "metadata": {
    "deletable": false,
    "editable": false,
    "vscode": {
     "languageId": "raw"
    }
   },
   "source": [
    "#### 5. Comparing K-means with Random Initialization and K-means++ Initialization\n",
    "\n",
    "- In this question you are tasked with **comparing** the k-means clustering using random initialization and k-means++ initialization.\n",
    "- The function should return the number of iterations and the wcss measure for both techniques. (return it as `n_iter_random`, `n_iter_kpp`, `wcss_random`, `wcss_kpp`)\n",
    "- `Please use random_state = 42 while defining the KMeans model`\n"
   ]
  },
  {
   "cell_type": "code",
   "execution_count": null,
   "metadata": {
    "tags": []
   },
   "outputs": [],
   "source": [
    "def ans5():\n",
    "    # Generated synthetic dataset with 5 clusters\n",
    "    X, y_true = make_blobs(n_samples=1000, centers=5, cluster_std=0.60, random_state=42)\n",
    "    ...\n",
    "\n"
   ]
  },
  {
   "cell_type": "code",
   "execution_count": null,
   "metadata": {
    "deletable": false,
    "editable": false
   },
   "outputs": [],
   "source": [
    "grader.check(\"q5\")"
   ]
  },
  {
   "cell_type": "markdown",
   "metadata": {
    "deletable": false,
    "editable": false
   },
   "source": [
    "#### 6. Determining Optimal K Using Elbow Method\n",
    "- In this question, run k-means clustering with different `k` values (1-10), and compute the wcss value for each k value.\n",
    "- Use `kmeans++` as initialization method.\n",
    "- Compute the `rand scores` and `wcss` values for each `k`\n",
    "- Return the optimal `k` value along with the `rand scores` and `wcss` values.   **[return in this order k, rand_scores(list), wcss(list)]**\n",
    "- `Please use random_state = 42 while defining the KMeans model`"
   ]
  },
  {
   "cell_type": "code",
   "execution_count": null,
   "metadata": {
    "tags": []
   },
   "outputs": [],
   "source": [
    "from sklearn.datasets import make_blobs\n",
    "from sklearn.cluster import KMeans\n",
    "from sklearn.metrics import adjusted_rand_score\n",
    "\n",
    "def ans6():\n",
    "    #generate the blob dataset\n",
    "    X, y_true = make_blobs(n_samples=1000, centers=5, cluster_std=0.60, random_state=42)\n",
    "    ..."
   ]
  },
  {
   "cell_type": "code",
   "execution_count": null,
   "metadata": {
    "deletable": false,
    "editable": false
   },
   "outputs": [],
   "source": [
    "grader.check(\"q6\")"
   ]
  },
  {
   "cell_type": "markdown",
   "metadata": {},
   "source": [
    "#### Submit the completed notebook to Gradescope to view your result!"
   ]
  }
 ],
 "metadata": {
  "kernelspec": {
   "display_name": "Python 3 (ipykernel)",
   "language": "python",
   "name": "python3"
  },
  "language_info": {
   "codemirror_mode": {
    "name": "ipython",
    "version": 3
   },
   "file_extension": ".py",
   "mimetype": "text/x-python",
   "name": "python",
   "nbconvert_exporter": "python",
   "pygments_lexer": "ipython3",
   "version": "3.12.4"
  },
  "otter": {
   "OK_FORMAT": true,
   "tests": {
    "q3": {
     "name": "q3",
     "points": 2,
     "suites": [
      {
       "cases": [
        {
         "code": ">>> expected_centers = np.array([[-2.63323268, 9.04356978], [-6.88387179, -6.98398415], [4.74710337, 2.01059427]])\n>>> expected_wcss = 566.8595511244131\n>>> assert ans3()[0].shape == (3, 2), 'Cluster centers array should have shape of (3, 2)'\n>>> assert np.allclose(ans3()[0], expected_centers, atol=0.1), 'Cluster centers are incorrect'\n>>> assert ans3()[1].shape == (300,), 'Incorrect labels shape'\n>>> assert set(ans3()[1]) == {0, 1, 2}, 'Labels should be 0, 1 or 2'\n>>> assert abs(ans3()[2] - expected_wcss) < 10, 'WCSS is not within expected range'\n",
         "hidden": false,
         "locked": false
        }
       ],
       "scored": true,
       "setup": "",
       "teardown": "",
       "type": "doctest"
      }
     ]
    },
    "q4": {
     "name": "q4",
     "points": 2,
     "suites": [
      {
       "cases": [
        {
         "code": ">>> count1_yk = np.count_nonzero(ans4()[0] == 1)\n>>> count1_yt = np.count_nonzero(ans4()[1] == 1)\n>>> assert count1_yt == 150\n>>> assert count1_yk == 150\n>>> assert ans4()[0].shape == ans4()[1].shape == (300,)\n>>> assert ans4()[2] == -0.0031773303504847128\n",
         "hidden": false,
         "locked": false
        }
       ],
       "scored": true,
       "setup": "",
       "teardown": "",
       "type": "doctest"
      }
     ]
    },
    "q5": {
     "name": "q5",
     "points": 2,
     "suites": [
      {
       "cases": [
        {
         "code": ">>> assert ans5()[0] == 6\n>>> assert ans5()[1] == 2\n>>> assert ans5()[2] - 698 < 0.8\n>>> assert ans5()[3] - 698 < 0.8\n",
         "hidden": false,
         "locked": false
        }
       ],
       "scored": true,
       "setup": "",
       "teardown": "",
       "type": "doctest"
      }
     ]
    },
    "q6": {
     "name": "q6",
     "points": 2,
     "suites": [
      {
       "cases": [
        {
         "code": ">>> assert ans6()[0] == 5\n>>> assert len(ans6()[1]) == len(ans6()[2]) == 10\n>>> assert 0.18 < ans6()[1][1] < 0.24\n>>> assert ans6()[1][2] - ans6()[1][1] > 0.4\n>>> assert ans6()[2][8] - ans6()[2][9] > 50\n",
         "hidden": false,
         "locked": false
        }
       ],
       "scored": true,
       "setup": "",
       "teardown": "",
       "type": "doctest"
      }
     ]
    }
   }
  }
 },
 "nbformat": 4,
 "nbformat_minor": 4
}
