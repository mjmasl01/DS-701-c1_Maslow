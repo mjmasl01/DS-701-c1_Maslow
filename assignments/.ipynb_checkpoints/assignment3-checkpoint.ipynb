{
 "cells": [
  {
   "cell_type": "code",
   "execution_count": 71,
   "metadata": {
    "deletable": false,
    "editable": false
   },
   "outputs": [],
   "source": [
    "# Initialize Otter\n",
    "import otter\n",
    "grader = otter.Notebook(\"assignment3.ipynb\")"
   ]
  },
  {
   "cell_type": "code",
   "execution_count": 73,
   "metadata": {},
   "outputs": [],
   "source": [
    "import numpy as np\n",
    "import matplotlib.pyplot as plt"
   ]
  },
  {
   "cell_type": "markdown",
   "metadata": {},
   "source": [
    "# Probability, Statistics and Distances Homework\n",
    "\n",
    "Please complete the following assignment. Run all cells and submit your completed notebook through Gradescope.\n",
    "\n",
    "This assignment covers the following topics:\n",
    "\n",
    "- Frequentist vs Bayesian probability\n",
    "- Definition of probability\n",
    "- Conditional probability and Bayes theorem\n",
    "- Random variables\n",
    "- Expectation, variance, and covariance\n",
    "- Binomial distribution\n",
    "- Poisson distribution\n",
    "- Gaussian distribution\n",
    "- Jaccard Index\n",
    "- Euclidean Distances"
   ]
  },
  {
   "cell_type": "markdown",
   "metadata": {
    "deletable": false,
    "editable": false
   },
   "source": [
    "<!-- BEGIN QUESTION -->\n",
    "\n",
    "#### 1. Which of the following statements best describes the Bayesian interpretation of probability?\n",
    "\n",
    "    A) Probability is the long-run relative frequency of an event occurring in repeated trials.\n",
    "    B) Probability represents a degree of belief or confidence in the occurrence of an event.\n",
    "    C) Probability is the ratio of favorable outcomes to the total number of equally likely outcomes.\n",
    "    D) Probability is the measure of the likelihood that a random variable takes a specific value.\n",
    "\n",
    "    Write a function `ans1` and return your answer as a string, e.g., \"A\"."
   ]
  },
  {
   "cell_type": "code",
   "execution_count": 75,
   "metadata": {
    "tags": []
   },
   "outputs": [
    {
     "name": "stdout",
     "output_type": "stream",
     "text": [
      "B\n"
     ]
    }
   ],
   "source": [
    "def ans1():\n",
    "    print(\"B\")\n",
    "ans1()"
   ]
  },
  {
   "cell_type": "markdown",
   "metadata": {
    "deletable": false,
    "editable": false,
    "vscode": {
     "languageId": "raw"
    }
   },
   "source": [
    "<!-- END QUESTION -->\n",
    "\n",
    "#### 2. Write a function `roll_die(n:int) -> list` that simulates rolling a six-sided die `n` times and returns a `list` of outcomes."
   ]
  },
  {
   "cell_type": "code",
   "execution_count": 89,
   "metadata": {
    "tags": []
   },
   "outputs": [],
   "source": [
    "import numpy as np\n",
    "def roll_die(n: int) -> list:\n",
    "    return np.random.randint(1, 7, size=n).tolist()"
   ]
  },
  {
   "cell_type": "code",
   "execution_count": 93,
   "metadata": {
    "deletable": false,
    "editable": false
   },
   "outputs": [
    {
     "data": {
      "text/html": [
       "<p><strong><pre style='display: inline;'>q2</pre></strong> passed! 🍀</p>"
      ],
      "text/plain": [
       "q2 results: All test cases passed!"
      ]
     },
     "execution_count": 93,
     "metadata": {},
     "output_type": "execute_result"
    }
   ],
   "source": [
    "grader.check(\"q2\")"
   ]
  },
  {
   "cell_type": "markdown",
   "metadata": {
    "deletable": false,
    "editable": false,
    "vscode": {
     "languageId": "raw"
    }
   },
   "source": [
    "#### 3. Suppose that 1% of a population has a particular disease. A test for the disease correctly identifies  diseased individuals 99% of the time (sensitivity), and correctly identifies non-diseased individuals  95% of the time (specificity). If a randomly selected individual tests positive, what is the probability that they actually have the disease?\n",
    "    Return your answer as a float between 0 and 1."
   ]
  },
  {
   "cell_type": "code",
   "execution_count": 95,
   "metadata": {
    "tags": []
   },
   "outputs": [],
   "source": [
    "def answer3():\n",
    "    P_D = 0.01\n",
    "    P_not_D = 0.99\n",
    "    P_T_pos_given_D = 0.99\n",
    "    P_T_pos_given_not_D = 1 - 0.95\n",
    "    P_T_pos = (P_T_pos_given_D * P_D) + (P_T_pos_given_not_D * P_not_D)\n",
    "    P_D_given_T_pos = (P_T_pos_given_D * P_D) / P_T_pos\n",
    "    return P_D_given_T_pos"
   ]
  },
  {
   "cell_type": "code",
   "execution_count": 97,
   "metadata": {
    "deletable": false,
    "editable": false
   },
   "outputs": [
    {
     "data": {
      "text/html": [
       "<p><strong><pre style='display: inline;'>q3</pre></strong> passed! 💯</p>"
      ],
      "text/plain": [
       "q3 results: All test cases passed!"
      ]
     },
     "execution_count": 97,
     "metadata": {},
     "output_type": "execute_result"
    }
   ],
   "source": [
    "grader.check(\"q3\")"
   ]
  },
  {
   "cell_type": "markdown",
   "metadata": {
    "deletable": false,
    "editable": false,
    "vscode": {
     "languageId": "raw"
    }
   },
   "source": [
    "#### Let X be a discrete random variable that takes the values 1, 2, 3 with probabilities P(X=1)=0.2, P(X=2)=0.5, P(X=3)=0.3. \n",
    "-   Compute the expected value E[X].\n",
    "-   Return your answer as a float."
   ]
  },
  {
   "cell_type": "code",
   "execution_count": 125,
   "metadata": {
    "tags": []
   },
   "outputs": [],
   "source": [
    "def ans4():\n",
    "    p1=0.2\n",
    "    p2=0.5\n",
    "    p3=0.3\n",
    "    result=1*p1 + 2*p2 + 3*p3\n",
    "    return float(result)"
   ]
  },
  {
   "cell_type": "code",
   "execution_count": 117,
   "metadata": {
    "deletable": false,
    "editable": false
   },
   "outputs": [
    {
     "data": {
      "text/html": [
       "<p><strong><pre style='display: inline;'>q4</pre></strong> passed! 🙌</p>"
      ],
      "text/plain": [
       "q4 results: All test cases passed!"
      ]
     },
     "execution_count": 117,
     "metadata": {},
     "output_type": "execute_result"
    }
   ],
   "source": [
    "grader.check(\"q4\")"
   ]
  },
  {
   "cell_type": "markdown",
   "metadata": {
    "deletable": false,
    "editable": false,
    "vscode": {
     "languageId": "raw"
    }
   },
   "source": [
    "####  5. Let X be a random variable as in Question 4. Compute the variance Var(X).\n",
    "\n",
    "-    Return your answer as a float."
   ]
  },
  {
   "cell_type": "code",
   "execution_count": 143,
   "metadata": {
    "tags": []
   },
   "outputs": [],
   "source": [
    "def ans5():\n",
    "    E_X = ans4()\n",
    "    p1=0.2\n",
    "    p2=0.5\n",
    "    p3=0.3\n",
    "    E_X_squ=(1**2 * p1) + (2**2 * p2) + (3**2 * p3)\n",
    "    return E_X_squ - E_X**2"
   ]
  },
  {
   "cell_type": "code",
   "execution_count": 145,
   "metadata": {
    "tags": []
   },
   "outputs": [
    {
     "data": {
      "text/plain": [
       "0.490000000000002"
      ]
     },
     "execution_count": 145,
     "metadata": {},
     "output_type": "execute_result"
    }
   ],
   "source": [
    "ans5()"
   ]
  },
  {
   "cell_type": "code",
   "execution_count": 147,
   "metadata": {
    "deletable": false,
    "editable": false
   },
   "outputs": [
    {
     "data": {
      "text/html": [
       "<p><strong><pre style='display: inline;'>q5</pre></strong> passed! 🌈</p>"
      ],
      "text/plain": [
       "q5 results: All test cases passed!"
      ]
     },
     "execution_count": 147,
     "metadata": {},
     "output_type": "execute_result"
    }
   ],
   "source": [
    "grader.check(\"q5\")"
   ]
  },
  {
   "cell_type": "markdown",
   "metadata": {
    "deletable": false,
    "editable": false,
    "vscode": {
     "languageId": "raw"
    }
   },
   "source": [
    "#### 6. A fair coin is tossed 10 times. What is the probability of getting exactly 6 heads?\n",
    "    Return your answer as a float."
   ]
  },
  {
   "cell_type": "code",
   "execution_count": 153,
   "metadata": {
    "tags": []
   },
   "outputs": [],
   "source": [
    "from math import comb\n",
    "def ans6():\n",
    "    n=10\n",
    "    k=6\n",
    "    p=0.5\n",
    "    bin_coef=comb(n,k)\n",
    "    prob=bin_coef*(p ** k) * ((1 - p) ** (n - k))\n",
    "    return float(prob)"
   ]
  },
  {
   "cell_type": "code",
   "execution_count": 155,
   "metadata": {
    "tags": []
   },
   "outputs": [
    {
     "data": {
      "text/plain": [
       "0.205078125"
      ]
     },
     "execution_count": 155,
     "metadata": {},
     "output_type": "execute_result"
    }
   ],
   "source": [
    "ans6()"
   ]
  },
  {
   "cell_type": "code",
   "execution_count": 157,
   "metadata": {
    "deletable": false,
    "editable": false
   },
   "outputs": [
    {
     "data": {
      "text/html": [
       "<p><strong><pre style='display: inline;'>q6</pre></strong> passed! 🙌</p>"
      ],
      "text/plain": [
       "q6 results: All test cases passed!"
      ]
     },
     "execution_count": 157,
     "metadata": {},
     "output_type": "execute_result"
    }
   ],
   "source": [
    "grader.check(\"q6\")"
   ]
  },
  {
   "cell_type": "markdown",
   "metadata": {
    "deletable": false,
    "editable": false,
    "vscode": {
     "languageId": "raw"
    }
   },
   "source": [
    "#### 7. A radioactive source emits particles following a Poisson distribution with an average rate of λ = 4 particles per minute. \n",
    "    What is the probability that exactly 6 particles are emitted in a given minute?\n",
    "\n",
    "    Return your answer as a float."
   ]
  },
  {
   "cell_type": "code",
   "execution_count": 169,
   "metadata": {
    "tags": []
   },
   "outputs": [],
   "source": [
    "from scipy.stats import poisson\n",
    "def ans7():\n",
    "    λ = 4\n",
    "    k = 6\n",
    "    probability=poisson.pmf(k, λ)\n",
    "    return float(probability)"
   ]
  },
  {
   "cell_type": "code",
   "execution_count": 171,
   "metadata": {
    "deletable": false,
    "editable": false
   },
   "outputs": [
    {
     "data": {
      "text/html": [
       "<p><strong><pre style='display: inline;'>q7</pre></strong> passed! 💯</p>"
      ],
      "text/plain": [
       "q7 results: All test cases passed!"
      ]
     },
     "execution_count": 171,
     "metadata": {},
     "output_type": "execute_result"
    }
   ],
   "source": [
    "grader.check(\"q7\")"
   ]
  },
  {
   "cell_type": "markdown",
   "metadata": {
    "deletable": false,
    "editable": false
   },
   "source": [
    "#### 8. Assuming that the heights of adult males are normally distributed with a mean of 70 inches and a standard deviation of 3 inches, what is the probability that a randomly selected male is taller than 75 inches?\n",
    "\n",
    "    Return your answer as a float."
   ]
  },
  {
   "cell_type": "code",
   "execution_count": 212,
   "metadata": {
    "tags": []
   },
   "outputs": [],
   "source": [
    "from scipy.stats import norm\n",
    "def ans8():\n",
    "    mu = 70\n",
    "    sigma = 3\n",
    "    x = 75\n",
    "    probability_less_75 = norm.cdf(x, mu, sigma)\n",
    "    probability_taller_75 = 1 - probability_less_75\n",
    "    return float(probability_taller_75)"
   ]
  },
  {
   "cell_type": "code",
   "execution_count": 216,
   "metadata": {
    "deletable": false,
    "editable": false
   },
   "outputs": [
    {
     "data": {
      "text/html": [
       "<p><strong><pre style='display: inline;'>q8</pre></strong> passed! 🙌</p>"
      ],
      "text/plain": [
       "q8 results: All test cases passed!"
      ]
     },
     "execution_count": 216,
     "metadata": {},
     "output_type": "execute_result"
    }
   ],
   "source": [
    "grader.check(\"q8\")"
   ]
  },
  {
   "cell_type": "markdown",
   "metadata": {
    "deletable": false,
    "editable": false
   },
   "source": [
    "#### 9. Write a function to calculate the Jaccard index (also known as Jaccard similarity coefficient) between two sets.\n",
    "\n",
    "    Example:\n",
    "    Input: set1 = {1, 2, 3, 4, 5}, set2 = {2, 4, 6, 8}\n",
    "    Output: 0.2857\n",
    "    Explanation:\n",
    "    Intersection: {2, 4}\n",
    "    Union: {1, 2, 3, 4, 5, 6, 8}\n",
    "    Jaccard Index = 2 / 7 ≈ 0.2857"
   ]
  },
  {
   "cell_type": "code",
   "execution_count": 218,
   "metadata": {
    "tags": []
   },
   "outputs": [],
   "source": [
    "def ans9(set1: set, set2: set) -> float:\n",
    "    intersection=set1.intersection(set2)\n",
    "    union=set1.union(set2)\n",
    "    jaccard_index=len(intersection)/len(union)\n",
    "    return round(jaccard_index, 4)"
   ]
  },
  {
   "cell_type": "code",
   "execution_count": 220,
   "metadata": {
    "deletable": false,
    "editable": false
   },
   "outputs": [
    {
     "data": {
      "text/html": [
       "<p><strong><pre style='display: inline;'>q9</pre></strong> passed! 🌈</p>"
      ],
      "text/plain": [
       "q9 results: All test cases passed!"
      ]
     },
     "execution_count": 220,
     "metadata": {},
     "output_type": "execute_result"
    }
   ],
   "source": [
    "grader.check(\"q9\")"
   ]
  },
  {
   "cell_type": "markdown",
   "metadata": {
    "deletable": false,
    "editable": false
   },
   "source": [
    "#### 10. Write a function that computes the norms between two lists.  (1-norm, 2-norm, infinity-norm, euclidean distance)\n",
    "    Return a dictionary with keys `1_norm`, `2_norm`, `inf_norm` and `euclidean`.\n",
    "    Note: Convert all the norms to float while returning."
   ]
  },
  {
   "cell_type": "code",
   "execution_count": 226,
   "metadata": {
    "tags": []
   },
   "outputs": [],
   "source": [
    "def ans10(arr1: np.array, arr2: np.array) -> float:\n",
    "    return {'1_norm': float(np.linalg.norm(arr1-arr2, 1)),\n",
    "          '2_norm': float(np.linalg.norm(arr1-arr2, 2)),\n",
    "          'inf_norm': float(np.linalg.norm(arr1-arr2, np.inf)),\n",
    "          'euclidena': float(np.linalg.norm(arr1-arr2))\n",
    "          }"
   ]
  },
  {
   "cell_type": "code",
   "execution_count": 228,
   "metadata": {
    "deletable": false,
    "editable": false
   },
   "outputs": [
    {
     "data": {
      "text/html": [
       "<p><strong><pre style='display: inline;'>q10</pre></strong> passed! ✨</p>"
      ],
      "text/plain": [
       "q10 results: All test cases passed!"
      ]
     },
     "execution_count": 228,
     "metadata": {},
     "output_type": "execute_result"
    }
   ],
   "source": [
    "grader.check(\"q10\")"
   ]
  },
  {
   "cell_type": "markdown",
   "metadata": {
    "deletable": false,
    "editable": false
   },
   "source": [
    "## Submission\n",
    "\n",
    "Make sure you have run all cells in your notebook in order before running the cell below, so that all images/graphs appear in the output. The cell below will generate a zip file for you to submit. **Please save before exporting!**"
   ]
  },
  {
   "cell_type": "code",
   "execution_count": null,
   "metadata": {
    "deletable": false,
    "editable": false
   },
   "outputs": [],
   "source": [
    "# Save your notebook first, then run this cell to export your submission.\n",
    "grader.export(run_tests=True)"
   ]
  },
  {
   "cell_type": "markdown",
   "metadata": {},
   "source": [
    " "
   ]
  }
 ],
 "metadata": {
  "kernelspec": {
   "display_name": "Python 3 (ipykernel)",
   "language": "python",
   "name": "python3"
  },
  "language_info": {
   "codemirror_mode": {
    "name": "ipython",
    "version": 3
   },
   "file_extension": ".py",
   "mimetype": "text/x-python",
   "name": "python",
   "nbconvert_exporter": "python",
   "pygments_lexer": "ipython3",
   "version": "3.12.4"
  },
  "otter": {
   "OK_FORMAT": true,
   "tests": {
    "q10": {
     "name": "q10",
     "points": null,
     "suites": [
      {
       "cases": [
        {
         "code": ">>> assert type(ans10(np.array([1, 2, 3]), np.array([4, 5, 6]))) == dict\n>>> assert ans10(np.array([1, 2, 3]), np.array([4, 5, 6]))['1_norm'] == 9.0\n>>> assert ans10(np.array([1, 2, 3]), np.array([4, 5, 6]))['inf_norm'] == 3.0\n>>> assert ans10(np.array([1, 2, 3]), np.array([4, 5, 6]))['2_norm'] > 5.0\n",
         "hidden": false,
         "locked": false
        }
       ],
       "scored": true,
       "setup": "",
       "teardown": "",
       "type": "doctest"
      }
     ]
    },
    "q2": {
     "name": "q2",
     "points": null,
     "suites": [
      {
       "cases": [
        {
         "code": ">>> assert len(roll_die(10)) == 10\n>>> assert all((1 <= x <= 6 for x in roll_die(100)))\n",
         "hidden": false,
         "locked": false
        }
       ],
       "scored": true,
       "setup": "",
       "teardown": "",
       "type": "doctest"
      }
     ]
    },
    "q3": {
     "name": "q3",
     "points": null,
     "suites": [
      {
       "cases": [
        {
         "code": ">>> assert answer3() > 0.15 and answer3() < 0.2\n>>> assert type(answer3()) == float\n",
         "hidden": false,
         "locked": false
        }
       ],
       "scored": true,
       "setup": "",
       "teardown": "",
       "type": "doctest"
      }
     ]
    },
    "q4": {
     "name": "q4",
     "points": null,
     "suites": [
      {
       "cases": [
        {
         "code": ">>> assert type(ans4()) == float\n>>> assert 2 < ans4() < 2.1\n",
         "hidden": false,
         "locked": false
        }
       ],
       "scored": true,
       "setup": "",
       "teardown": "",
       "type": "doctest"
      }
     ]
    },
    "q5": {
     "name": "q5",
     "points": null,
     "suites": [
      {
       "cases": [
        {
         "code": ">>> assert type(ans5() == float)\n>>> assert abs(ans5() - 0.49) < 1e-09\n>>> assert 0.49 < ans5() < 0.491\n",
         "hidden": false,
         "locked": false
        }
       ],
       "scored": true,
       "setup": "",
       "teardown": "",
       "type": "doctest"
      }
     ]
    },
    "q6": {
     "name": "q6",
     "points": null,
     "suites": [
      {
       "cases": [
        {
         "code": ">>> assert type(ans6()) == float\n>>> assert 0.2 < ans6() < 0.21\n>>> assert abs(ans6()) - 0.2 < 0.05\n",
         "hidden": false,
         "locked": false
        }
       ],
       "scored": true,
       "setup": "",
       "teardown": "",
       "type": "doctest"
      }
     ]
    },
    "q7": {
     "name": "q7",
     "points": null,
     "suites": [
      {
       "cases": [
        {
         "code": ">>> assert type(ans7()) == float\n>>> assert 0.1 < ans7() < 0.11\n>>> assert abs(ans7()) - 0.1 < 0.0042\n",
         "hidden": false,
         "locked": false
        }
       ],
       "scored": true,
       "setup": "",
       "teardown": "",
       "type": "doctest"
      }
     ]
    },
    "q8": {
     "name": "q8",
     "points": null,
     "suites": [
      {
       "cases": [
        {
         "code": ">>> assert type(ans8()) == float\n>>> assert 0.04 < abs(ans8()) < 0.05\n",
         "hidden": false,
         "locked": false
        }
       ],
       "scored": true,
       "setup": "",
       "teardown": "",
       "type": "doctest"
      }
     ]
    },
    "q9": {
     "name": "q9",
     "points": null,
     "suites": [
      {
       "cases": [
        {
         "code": ">>> assert ans9({1, 2, 3, 4, 5}, {2, 3, 4}) == 0.6\n>>> assert 0.4 < ans9({1, 2, 3, 4, 5, 6, 7}, {2, 3, 4}) < 0.5\n>>> assert 0.2 < ans9({1, 2, 3, 4, 5, 6, 7, 8, 9}, {2, 3}) < 0.23\n",
         "hidden": false,
         "locked": false
        }
       ],
       "scored": true,
       "setup": "",
       "teardown": "",
       "type": "doctest"
      }
     ]
    }
   }
  }
 },
 "nbformat": 4,
 "nbformat_minor": 4
}
